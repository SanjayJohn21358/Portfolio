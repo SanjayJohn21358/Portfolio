{
 "cells": [
  {
   "cell_type": "markdown",
   "metadata": {},
   "source": [
    "## Exercises with common Bioinformatics filetypes"
   ]
  },
  {
   "cell_type": "markdown",
   "metadata": {},
   "source": [
    "An exercise notebook with basic manipulations of common bioinformatics filetypes using Python and Pandas."
   ]
  },
  {
   "cell_type": "markdown",
   "metadata": {},
   "source": [
    "### Parsing a SAM File"
   ]
  },
  {
   "cell_type": "markdown",
   "metadata": {},
   "source": [
    "Given a SAM file, parse it and output line numbers of lines that have columns containing a specified character."
   ]
  },
  {
   "cell_type": "code",
   "execution_count": 75,
   "metadata": {},
   "outputs": [],
   "source": [
    "import pandas as pd\n",
    "import numpy as np\n",
    "\n",
    "def parseSAM(infile,col,char):\n",
    "    \"\"\"\n",
    "    Parse input file and output line number containing character in column\n",
    "    :param: infile, SAM file\n",
    "    :type: str\n",
    "    :param: col, column\n",
    "    :type: int\n",
    "    :param: char, character\n",
    "    :type: str\n",
    "    \n",
    "    returns numpy array, line numbers\n",
    "    \n",
    "    \"\"\"\n",
    "    \n",
    "    df = pd.read_csv(infile,skiprows=2,sep='\\t',header=None)\n",
    "    print df\n",
    "    parsed = np.where(df.iloc[:,col] == char)\n",
    "    #parsed = np.array(parsed)\n",
    "    return parsed + 2\n",
    "    "
   ]
  },
  {
   "cell_type": "code",
   "execution_count": 76,
   "metadata": {},
   "outputs": [
    {
     "name": "stdout",
     "output_type": "stream",
     "text": [
      "      0    1     2   3   4                   5  6   7   8   \\\n",
      "0   r001  163   ref   7  30          8M4I4M1D3M  =  37  39   \n",
      "1   r002    0   ref   9  30  1S2I6M1P1I1P1I4M2I  *   0   0   \n",
      "2   r003    0   ref   9  30                5H6M  *   0   0   \n",
      "3   r004    0   ref  16  30           6M14N1I5M  *   0   0   \n",
      "4   r003   16   ref  29  30                6H5M  *   0   0   \n",
      "5   r001   83   ref  37  30                  9M  =   7 -39   \n",
      "6     x1    0  ref2   1  30                 20M  *   0   0   \n",
      "7     x2    0  ref2   2  30                 21M  *   0   0   \n",
      "8     x3    0  ref2   6  30             9M4I13M  *   0   0   \n",
      "9     x4    0  ref2  10  30                 25M  *   0   0   \n",
      "10    x5    0  ref2  12  30                 24M  *   0   0   \n",
      "11    x6    0  ref2  14  30                 23M  *   0   0   \n",
      "\n",
      "                            9                           10  \\\n",
      "0          TTAGATAAAGAGGATACTG                           *   \n",
      "1            AAAAGATAAGGGATAAA                           *   \n",
      "2                       AGCTAA                           *   \n",
      "3                 ATAGCTCTCAGC                           *   \n",
      "4                        TAGGC                           *   \n",
      "5                    CAGCGCCAT                           *   \n",
      "6         aggttttataaaacaaataa        ????????????????????   \n",
      "7        ggttttataaaacaaataatt       ?????????????????????   \n",
      "8   ttataaaacAAATaattaagtctaca  ??????????????????????????   \n",
      "9    CaaaTaattaagtctacagagcaac   ?????????????????????????   \n",
      "10    aaTaattaagtctacagagcaact    ????????????????????????   \n",
      "11     Taattaagtctacagagcaacta     ???????????????????????   \n",
      "\n",
      "                       11  \n",
      "0   XX:B:S,12561,2,20,112  \n",
      "1                     NaN  \n",
      "2                     NaN  \n",
      "3                     NaN  \n",
      "4                     NaN  \n",
      "5                     NaN  \n",
      "6                     NaN  \n",
      "7                     NaN  \n",
      "8                     NaN  \n",
      "9                     NaN  \n",
      "10                    NaN  \n",
      "11                    NaN  \n"
     ]
    },
    {
     "ename": "TypeError",
     "evalue": "can only concatenate tuple (not \"int\") to tuple",
     "output_type": "error",
     "traceback": [
      "\u001b[0;31m---------------------------------------------------------------------------\u001b[0m",
      "\u001b[0;31mTypeError\u001b[0m                                 Traceback (most recent call last)",
      "\u001b[0;32m<ipython-input-76-0a38082a5114>\u001b[0m in \u001b[0;36m<module>\u001b[0;34m()\u001b[0m\n\u001b[0;32m----> 1\u001b[0;31m \u001b[0mparseSAM\u001b[0m\u001b[0;34m(\u001b[0m\u001b[0;34m'toy.sam'\u001b[0m\u001b[0;34m,\u001b[0m\u001b[0;36m6\u001b[0m\u001b[0;34m,\u001b[0m\u001b[0;34m'*'\u001b[0m\u001b[0;34m)\u001b[0m\u001b[0;34m\u001b[0m\u001b[0m\n\u001b[0m",
      "\u001b[0;32m<ipython-input-75-87c8226e6709>\u001b[0m in \u001b[0;36mparseSAM\u001b[0;34m(infile, col, char)\u001b[0m\n\u001b[1;32m     20\u001b[0m     \u001b[0mparsed\u001b[0m \u001b[0;34m=\u001b[0m \u001b[0mnp\u001b[0m\u001b[0;34m.\u001b[0m\u001b[0mwhere\u001b[0m\u001b[0;34m(\u001b[0m\u001b[0mdf\u001b[0m\u001b[0;34m.\u001b[0m\u001b[0miloc\u001b[0m\u001b[0;34m[\u001b[0m\u001b[0;34m:\u001b[0m\u001b[0;34m,\u001b[0m\u001b[0mcol\u001b[0m\u001b[0;34m]\u001b[0m \u001b[0;34m==\u001b[0m \u001b[0mchar\u001b[0m\u001b[0;34m)\u001b[0m\u001b[0;34m\u001b[0m\u001b[0m\n\u001b[1;32m     21\u001b[0m     \u001b[0;31m#parsed = np.array(parsed)\u001b[0m\u001b[0;34m\u001b[0m\u001b[0;34m\u001b[0m\u001b[0m\n\u001b[0;32m---> 22\u001b[0;31m     \u001b[0;32mreturn\u001b[0m \u001b[0mparsed\u001b[0m \u001b[0;34m+\u001b[0m \u001b[0;36m2\u001b[0m\u001b[0;34m\u001b[0m\u001b[0m\n\u001b[0m\u001b[1;32m     23\u001b[0m \u001b[0;34m\u001b[0m\u001b[0m\n",
      "\u001b[0;31mTypeError\u001b[0m: can only concatenate tuple (not \"int\") to tuple"
     ]
    }
   ],
   "source": [
    "parseSAM('toy.sam',6,'*')"
   ]
  },
  {
   "cell_type": "code",
   "execution_count": null,
   "metadata": {},
   "outputs": [],
   "source": []
  }
 ],
 "metadata": {
  "kernelspec": {
   "display_name": "Python 2",
   "language": "python",
   "name": "python2"
  },
  "language_info": {
   "codemirror_mode": {
    "name": "ipython",
    "version": 2
   },
   "file_extension": ".py",
   "mimetype": "text/x-python",
   "name": "python",
   "nbconvert_exporter": "python",
   "pygments_lexer": "ipython2",
   "version": "2.7.14"
  }
 },
 "nbformat": 4,
 "nbformat_minor": 2
}
