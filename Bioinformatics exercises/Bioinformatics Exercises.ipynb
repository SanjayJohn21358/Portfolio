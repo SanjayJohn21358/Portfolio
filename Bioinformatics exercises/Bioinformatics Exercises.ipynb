{
 "cells": [
  {
   "cell_type": "markdown",
   "metadata": {},
   "source": [
    "## Exercises with common Bioinformatics filetypes"
   ]
  },
  {
   "cell_type": "markdown",
   "metadata": {},
   "source": [
    "An exercise notebook with basic manipulations of common bioinformatics filetypes using Python and Pandas."
   ]
  },
  {
   "cell_type": "markdown",
   "metadata": {},
   "source": [
    "### Parsing a SAM File"
   ]
  },
  {
   "cell_type": "markdown",
   "metadata": {},
   "source": [
    "Given a SAM file, parse it and output line numbers of lines that have columns containing a specified character."
   ]
  },
  {
   "cell_type": "code",
   "execution_count": 83,
   "metadata": {},
   "outputs": [],
   "source": [
    "import pandas as pd\n",
    "import numpy as np\n",
    "\n",
    "def parseSAM(infile,col,char):\n",
    "    \"\"\"\n",
    "    Parse input file and output line number containing character in column\n",
    "    :param: infile, SAM file\n",
    "    :type: str\n",
    "    :param: col, column\n",
    "    :type: int\n",
    "    :param: char, character\n",
    "    :type: str\n",
    "    \n",
    "    returns numpy array, line numbers\n",
    "    \n",
    "    \"\"\"\n",
    "     \n",
    "    df = pd.read_csv(infile,skiprows=2,sep='\\t',header=None) #read file\n",
    "    parsed = np.array(np.where(df.iloc[:,col] == char)) #find column with character\n",
    "    return parsed + 2\n",
    "    "
   ]
  },
  {
   "cell_type": "code",
   "execution_count": 84,
   "metadata": {},
   "outputs": [
    {
     "data": {
      "text/plain": [
       "array([[2, 3, 4, 5, 6, 7]])"
      ]
     },
     "execution_count": 84,
     "metadata": {},
     "output_type": "execute_result"
    }
   ],
   "source": [
    "parseSAM('toy.sam',10,'*')"
   ]
  },
  {
   "cell_type": "code",
   "execution_count": null,
   "metadata": {},
   "outputs": [],
   "source": []
  }
 ],
 "metadata": {
  "kernelspec": {
   "display_name": "Python 2",
   "language": "python",
   "name": "python2"
  },
  "language_info": {
   "codemirror_mode": {
    "name": "ipython",
    "version": 2
   },
   "file_extension": ".py",
   "mimetype": "text/x-python",
   "name": "python",
   "nbconvert_exporter": "python",
   "pygments_lexer": "ipython2",
   "version": "2.7.14"
  }
 },
 "nbformat": 4,
 "nbformat_minor": 2
}
